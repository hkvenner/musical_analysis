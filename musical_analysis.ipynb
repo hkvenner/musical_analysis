{
 "cells": [
  {
   "cell_type": "code",
   "execution_count": 22,
   "id": "ed771670",
   "metadata": {},
   "outputs": [],
   "source": [
    "import pandas as pd"
   ]
  },
  {
   "cell_type": "code",
   "execution_count": 23,
   "id": "cc50585e",
   "metadata": {},
   "outputs": [
    {
     "ename": "ValueError",
     "evalue": "left_index parameter must be of type bool, not <class 'pandas.core.frame.DataFrame'>",
     "output_type": "error",
     "traceback": [
      "\u001b[1;31m---------------------------------------------------------------------------\u001b[0m",
      "\u001b[1;31mValueError\u001b[0m                                Traceback (most recent call last)",
      "\u001b[1;32m~\\AppData\\Local\\Temp/ipykernel_60828/970087700.py\u001b[0m in \u001b[0;36m<module>\u001b[1;34m\u001b[0m\n\u001b[0;32m     10\u001b[0m \u001b[0myr2019\u001b[0m \u001b[1;33m=\u001b[0m \u001b[0mpd\u001b[0m\u001b[1;33m.\u001b[0m\u001b[0mread_csv\u001b[0m\u001b[1;33m(\u001b[0m\u001b[1;34m\"data/2019.csv\"\u001b[0m\u001b[1;33m,\u001b[0m \u001b[0mindex_col\u001b[0m\u001b[1;33m=\u001b[0m\u001b[1;36m0\u001b[0m\u001b[1;33m)\u001b[0m\u001b[1;33m\u001b[0m\u001b[1;33m\u001b[0m\u001b[0m\n\u001b[0;32m     11\u001b[0m \u001b[1;33m\u001b[0m\u001b[0m\n\u001b[1;32m---> 12\u001b[1;33m \u001b[0mall_top_songs\u001b[0m \u001b[1;33m=\u001b[0m \u001b[0mpd\u001b[0m\u001b[1;33m.\u001b[0m\u001b[0mmerge\u001b[0m\u001b[1;33m(\u001b[0m\u001b[0myr2010\u001b[0m\u001b[1;33m,\u001b[0m\u001b[0myr2011\u001b[0m\u001b[1;33m,\u001b[0m\u001b[0myr2012\u001b[0m\u001b[1;33m,\u001b[0m\u001b[0myr2013\u001b[0m\u001b[1;33m,\u001b[0m\u001b[0myr2014\u001b[0m\u001b[1;33m,\u001b[0m\u001b[0myr2015\u001b[0m\u001b[1;33m,\u001b[0m\u001b[0myr2016\u001b[0m\u001b[1;33m,\u001b[0m\u001b[0myr2017\u001b[0m\u001b[1;33m,\u001b[0m\u001b[0myr2018\u001b[0m\u001b[1;33m,\u001b[0m\u001b[0myr2019\u001b[0m\u001b[1;33m)\u001b[0m\u001b[1;33m\u001b[0m\u001b[1;33m\u001b[0m\u001b[0m\n\u001b[0m\u001b[0;32m     13\u001b[0m \u001b[1;31m#all_top_song.shape()\u001b[0m\u001b[1;33m\u001b[0m\u001b[1;33m\u001b[0m\u001b[0m\n",
      "\u001b[1;32m~\\Anaconda3\\lib\\site-packages\\pandas\\core\\reshape\\merge.py\u001b[0m in \u001b[0;36mmerge\u001b[1;34m(left, right, how, on, left_on, right_on, left_index, right_index, sort, suffixes, copy, indicator, validate)\u001b[0m\n\u001b[0;32m    104\u001b[0m     \u001b[0mvalidate\u001b[0m\u001b[1;33m:\u001b[0m \u001b[0mstr\u001b[0m \u001b[1;33m|\u001b[0m \u001b[1;32mNone\u001b[0m \u001b[1;33m=\u001b[0m \u001b[1;32mNone\u001b[0m\u001b[1;33m,\u001b[0m\u001b[1;33m\u001b[0m\u001b[1;33m\u001b[0m\u001b[0m\n\u001b[0;32m    105\u001b[0m ) -> DataFrame:\n\u001b[1;32m--> 106\u001b[1;33m     op = _MergeOperation(\n\u001b[0m\u001b[0;32m    107\u001b[0m         \u001b[0mleft\u001b[0m\u001b[1;33m,\u001b[0m\u001b[1;33m\u001b[0m\u001b[1;33m\u001b[0m\u001b[0m\n\u001b[0;32m    108\u001b[0m         \u001b[0mright\u001b[0m\u001b[1;33m,\u001b[0m\u001b[1;33m\u001b[0m\u001b[1;33m\u001b[0m\u001b[0m\n",
      "\u001b[1;32m~\\Anaconda3\\lib\\site-packages\\pandas\\core\\reshape\\merge.py\u001b[0m in \u001b[0;36m__init__\u001b[1;34m(self, left, right, how, on, left_on, right_on, axis, left_index, right_index, sort, suffixes, copy, indicator, validate)\u001b[0m\n\u001b[0;32m    660\u001b[0m \u001b[1;33m\u001b[0m\u001b[0m\n\u001b[0;32m    661\u001b[0m         \u001b[1;32mif\u001b[0m \u001b[1;32mnot\u001b[0m \u001b[0mis_bool\u001b[0m\u001b[1;33m(\u001b[0m\u001b[0mleft_index\u001b[0m\u001b[1;33m)\u001b[0m\u001b[1;33m:\u001b[0m\u001b[1;33m\u001b[0m\u001b[1;33m\u001b[0m\u001b[0m\n\u001b[1;32m--> 662\u001b[1;33m             raise ValueError(\n\u001b[0m\u001b[0;32m    663\u001b[0m                 \u001b[1;34mf\"left_index parameter must be of type bool, not {type(left_index)}\"\u001b[0m\u001b[1;33m\u001b[0m\u001b[1;33m\u001b[0m\u001b[0m\n\u001b[0;32m    664\u001b[0m             )\n",
      "\u001b[1;31mValueError\u001b[0m: left_index parameter must be of type bool, not <class 'pandas.core.frame.DataFrame'>"
     ]
    }
   ],
   "source": [
    "yr2010 = pd.read_csv(\"data/2010.csv\", index_col=0)\n",
    "yr2011 = pd.read_csv(\"data/2011.csv\", index_col=0)\n",
    "yr2012 = pd.read_csv(\"data/2012.csv\", index_col=0)\n",
    "yr2013 = pd.read_csv(\"data/2013.csv\", index_col=0)\n",
    "yr2014 = pd.read_csv(\"data/2014.csv\", index_col=0)\n",
    "yr2015 = pd.read_csv(\"data/2015.csv\", index_col=0)\n",
    "yr2016 = pd.read_csv(\"data/2016.csv\", index_col=0)\n",
    "yr2017 = pd.read_csv(\"data/2017.csv\", index_col=0)\n",
    "yr2018 = pd.read_csv(\"data/2018.csv\", index_col=0)\n",
    "yr2019 = pd.read_csv(\"data/2019.csv\", index_col=0)\n",
    "\n",
    "all_top_songs = pd.merge(yr2010,yr2011,yr2012,yr2013,yr2014,yr2015,yr2016,yr2017,yr2018,yr2019)\n",
    "#all_top_song.shape()"
   ]
  }
 ],
 "metadata": {
  "kernelspec": {
   "display_name": "Python 3 (ipykernel)",
   "language": "python",
   "name": "python3"
  },
  "language_info": {
   "codemirror_mode": {
    "name": "ipython",
    "version": 3
   },
   "file_extension": ".py",
   "mimetype": "text/x-python",
   "name": "python",
   "nbconvert_exporter": "python",
   "pygments_lexer": "ipython3",
   "version": "3.9.7"
  }
 },
 "nbformat": 4,
 "nbformat_minor": 5
}
